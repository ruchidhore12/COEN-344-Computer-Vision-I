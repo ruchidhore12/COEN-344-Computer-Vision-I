{
  "nbformat": 4,
  "nbformat_minor": 0,
  "metadata": {
    "colab": {
      "provenance": [],
      "authorship_tag": "ABX9TyOdhRTtZU5wWaCMT4y1UZ6b",
      "include_colab_link": true
    },
    "kernelspec": {
      "name": "python3",
      "display_name": "Python 3"
    },
    "language_info": {
      "name": "python"
    }
  },
  "cells": [
    {
      "cell_type": "markdown",
      "metadata": {
        "id": "view-in-github",
        "colab_type": "text"
      },
      "source": [
        "<a href=\"https://colab.research.google.com/github/ruchidhore12/COEN-344-Computer-Vision-I/blob/main/convolution_correlation.ipynb\" target=\"_parent\"><img src=\"https://colab.research.google.com/assets/colab-badge.svg\" alt=\"Open In Colab\"/></a>"
      ]
    },
    {
      "cell_type": "markdown",
      "source": [
        "2D Convolution | 2D Correlation | Ruchi Manikrao Dhore | W1652116"
      ],
      "metadata": {
        "id": "XUUm8N6yYUvV"
      }
    },
    {
      "cell_type": "code",
      "execution_count": 5,
      "metadata": {
        "colab": {
          "base_uri": "https://localhost:8080/",
          "height": 272
        },
        "id": "7XerSAfvxvfe",
        "outputId": "a580d3d7-e704-47fe-d9ea-46ec46224d27"
      },
      "outputs": [
        {
          "output_type": "execute_result",
          "data": {
            "text/plain": [
              "Text(0.5, 1.0, '2D Correlation')"
            ]
          },
          "metadata": {},
          "execution_count": 5
        },
        {
          "output_type": "display_data",
          "data": {
            "text/plain": [
              "<Figure size 2304x2304 with 3 Axes>"
            ],
            "image/png": "[encoded data removed]"
          },
          "metadata": {
            "needs_background": "light"
          }
        }
      ],
      "source": [
        "import numpy as np\n",
        "from keras.datasets import cifar10\n",
        "import matplotlib.pyplot as plt\n",
        "\n",
        "# To load the CIFAR-10 dataset\n",
        "(x_train, y_train), (x_test, y_test) = cifar10.load_data()\n",
        "input_image = x_train[0]\n",
        "\n",
        "# To create a box filter kernel of dimension 3x3\n",
        "box_filter_kernel = np.ones((3, 3))/9\n",
        "\n",
        "# 2D Convolution\n",
        "convolution_matrix = np.zeros_like(input_image)\n",
        "for i in range(input_image.shape[0] - 2):\n",
        "  for j in range(input_image.shape[1] - 2):\n",
        "    convolution_matrix[i][j] = np.sum(input_image[i:i+3,j:j+3] * box_filter_kernel)\n",
        "\n",
        "# 2D Correlation\n",
        "correlation_matrix = np.zeros_like(input_image)\n",
        "for i in range(input_image.shape[0] - 2):\n",
        "  for j in range(input_image.shape[1] - 2):\n",
        "    correlation_matrix[i][j] = np.sum(input_image[i:i+3,j:j+3] * np.flip(np.flip(box_filter_kernel,0),1))\n",
        "\n",
        "# To plot original image\n",
        "figure = plt.figure(figsize = (32, 32))\n",
        "figure.tight_layout()\n",
        "plt.subplot(1, 8, 1)\n",
        "plt.imshow(input_image)\n",
        "plt.title(\"Original Image \" + str(i+1))\n",
        "\n",
        "# To plot convolution image\n",
        "plt.subplot(1, 8, 2)\n",
        "plt.imshow(convolution_matrix)\n",
        "plt.title(\"2D Convolution\")\n",
        "\n",
        "# To plot correlation image\n",
        "plt.subplot(1, 8, 3)\n",
        "plt.imshow(correlation_matrix)\n",
        "plt.title(\"2D Correlation\")\n",
        "\n",
        "\n",
        "\n",
        "\n",
        "\n",
        "\n",
        "\n",
        "\n",
        "\n",
        "\n",
        "\n",
        "\n",
        "\n",
        "\n",
        "\n",
        "\n"
      ]
    }
  ]
}